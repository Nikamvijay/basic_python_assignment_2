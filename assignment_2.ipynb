{
 "cells": [
  {
   "cell_type": "markdown",
   "id": "57ac9e1e",
   "metadata": {},
   "source": [
    "# Q.1) What are the two values of the Boolean data type? How do you write them?"
   ]
  },
  {
   "cell_type": "code",
   "execution_count": null,
   "id": "4ea18141",
   "metadata": {},
   "outputs": [],
   "source": [
    "The two values of the Boolean data type is True, False \n",
    "Ture=1 and False=0"
   ]
  },
  {
   "cell_type": "markdown",
   "id": "c9ff06ed",
   "metadata": {},
   "source": [
    "# Q.2) What are the three different types of Boolean operators?"
   ]
  },
  {
   "cell_type": "code",
   "execution_count": null,
   "id": "de9ea9fe",
   "metadata": {},
   "outputs": [],
   "source": [
    "The three different types of Boolean opertors is AND , OR and NOT"
   ]
  },
  {
   "cell_type": "markdown",
   "id": "e4a2715e",
   "metadata": {},
   "source": [
    "# Q.3) Make a list of each Boolean operator&#39;s truth tables (i.e. every possible combination of Boolean values for the operator and what it evaluate )."
   ]
  },
  {
   "cell_type": "code",
   "execution_count": null,
   "id": "ea7e288e",
   "metadata": {},
   "outputs": [],
   "source": [
    "The possible combinatin of Boolean values for the operator."
   ]
  },
  {
   "cell_type": "code",
   "execution_count": null,
   "id": "5356e1dc",
   "metadata": {},
   "outputs": [],
   "source": [
    "print(True and True)\n",
    "print(True and False)\n",
    "print(False and False)\n",
    "print(False and True)\n",
    "print(True or True)\n",
    "print(True or False)\n",
    "print(False or False)\n",
    "print(False or True)\n",
    "print(not True is True)\n",
    "print(not True is False)\n",
    "print(not False is False)\n",
    "print(not False is True)"
   ]
  },
  {
   "cell_type": "markdown",
   "id": "d3035631",
   "metadata": {},
   "source": [
    "# Q.4)What are the values of the following expressions?\n",
    "(5 &gt; 4) and (3 == 5)\n",
    "\n",
    "not (5 &gt; 4)\n",
    "\n",
    "(5 &gt; 4) or (3 == 5)\n",
    "\n",
    "not ((5 &gt; 4) or (3 == 5))\n",
    "\n",
    "(True and True) and (True == False)\n",
    "\n",
    "(not False) or (not True)"
   ]
  },
  {
   "cell_type": "code",
   "execution_count": null,
   "id": "6d044e99",
   "metadata": {},
   "outputs": [],
   "source": [
    "print((5 > 4) and (3 == 5))\n",
    "print(not (5 > 4))\n",
    "print((5 > 4) or (3 == 5))\n",
    "print(not ((5 > 4) or (3 == 5)))\n",
    "print((True and True) and (True == False))\n",
    "print((not False) or (not True))"
   ]
  },
  {
   "cell_type": "markdown",
   "id": "3ad45f79",
   "metadata": {},
   "source": [
    "# Q.5)What are the six comparison operators?"
   ]
  },
  {
   "cell_type": "code",
   "execution_count": null,
   "id": "41172b04",
   "metadata": {},
   "outputs": [],
   "source": [
    "==,!=,<,>,<=,>="
   ]
  },
  {
   "cell_type": "markdown",
   "id": "30e7b3f4",
   "metadata": {},
   "source": [
    "# Q.6)How do you tell the difference between the equal to and assignment operators?Describe a condition and when you would use one."
   ]
  },
  {
   "cell_type": "code",
   "execution_count": null,
   "id": "014d1b4a",
   "metadata": {},
   "outputs": [],
   "source": [
    "Equal to :- == (using this operators to compares whether both values are same or not)\n",
    "Assignment operators:- use assignment operator = to assign value.\n",
    "    eg.a=5"
   ]
  },
  {
   "cell_type": "markdown",
   "id": "5c69b794",
   "metadata": {},
   "source": [
    "# Q.7)Identify the three blocks in this code:\n",
    "spam = 0\n",
    "\n",
    "if spam == 10:\n",
    "\n",
    "print(&#39;eggs&#39;)\n",
    "\n",
    "if spam &gt; 5:\n",
    "\n",
    "print(&#39;bacon&#39;)\n",
    "\n",
    "else:\n",
    "\n",
    "print(&#39;ham&#39;)\n",
    "\n",
    "print(&#39;spam&#39;)\n",
    "\n",
    "print(&#39;spam&#39;)"
   ]
  },
  {
   "cell_type": "code",
   "execution_count": null,
   "id": "df7a0ca8",
   "metadata": {},
   "outputs": [],
   "source": [
    "spam=0 # assing operator \n",
    "if spam==10: # equal to (to  check compare ) \n",
    "    print(\"eggs\")\n",
    "if spam>5:\n",
    "    print(\"bacon\")\n",
    "else:\n",
    "    print(\"ham\")\n",
    "    print(\"spam\")\n",
    "    print(\"spam\")"
   ]
  },
  {
   "cell_type": "markdown",
   "id": "1443b4b0",
   "metadata": {},
   "source": [
    "# Q.8)Write code that prints Hello if 1 is stored in spam, prints Howdy if 2 is stored in spam, and prints Greetings! if anything else is stored in spam."
   ]
  },
  {
   "cell_type": "code",
   "execution_count": null,
   "id": "8ae8368c",
   "metadata": {},
   "outputs": [],
   "source": [
    "spam=int(input(\"input a no.\"))\n",
    "if spam==1:\n",
    "    print(\"Hello\")\n",
    "elif spam==2:\n",
    "    print(\"Howdy\")\n",
    "else:\n",
    "    print(\"Greetings!\")"
   ]
  },
  {
   "cell_type": "markdown",
   "id": "68fff793",
   "metadata": {},
   "source": [
    "# Q.9) If your programme is stuck in an endless loop, what keys you’ll press?"
   ]
  },
  {
   "cell_type": "code",
   "execution_count": null,
   "id": "9ead87a9",
   "metadata": {},
   "outputs": [],
   "source": [
    "if programme is stuck in an endless loop will be press ctrl+c keys."
   ]
  },
  {
   "cell_type": "markdown",
   "id": "f07f717b",
   "metadata": {},
   "source": [
    "# Q.10)How can you tell the difference between break and continue?"
   ]
  },
  {
   "cell_type": "code",
   "execution_count": null,
   "id": "b9d23d05",
   "metadata": {},
   "outputs": [],
   "source": [
    "Break :- when we use Break statement is loop.the conditions true the break key words stop the loop for next iteration (out of loop)\n",
    "Continue:- when we use continuw statement is loop. the conditions is true continue statement  pass loop in next iteration.    "
   ]
  },
  {
   "cell_type": "markdown",
   "id": "080a658f",
   "metadata": {},
   "source": [
    "# Q.11)In a for loop, what is the difference between range(10), range(0, 10), and range(0, 10, 1)?"
   ]
  },
  {
   "cell_type": "code",
   "execution_count": null,
   "id": "b480adef",
   "metadata": {},
   "outputs": [],
   "source": [
    "for i in range(10):\n",
    "    print(i)\n",
    "print(''*20)\n",
    "for i in range(0,10):\n",
    "    print(i)\n",
    "print(''*20)\n",
    "for i in range(0,10,1):\n",
    "    print(i)"
   ]
  },
  {
   "cell_type": "code",
   "execution_count": null,
   "id": "310695ae",
   "metadata": {},
   "outputs": [],
   "source": [
    "we can conclude that their is No difference . Range will take same value 0 to 9 "
   ]
  },
  {
   "cell_type": "markdown",
   "id": "9f6072de",
   "metadata": {},
   "source": [
    "# Q.12)Write a short program that prints the numbers 1 to 10 using a for loop. Then write an equivalent program that prints the numbers 1 to 10 using a while loop."
   ]
  },
  {
   "cell_type": "code",
   "execution_count": 6,
   "id": "bcc8171e",
   "metadata": {},
   "outputs": [
    {
     "name": "stdout",
     "output_type": "stream",
     "text": [
      "1\n",
      "2\n",
      "3\n",
      "4\n",
      "5\n",
      "6\n",
      "7\n",
      "8\n",
      "9\n",
      "10\n"
     ]
    }
   ],
   "source": [
    "# using for loop\n",
    "for i in range(1,11):\n",
    "    print(i)\n"
   ]
  },
  {
   "cell_type": "code",
   "execution_count": 7,
   "id": "4e2f5c1b",
   "metadata": {},
   "outputs": [
    {
     "name": "stdout",
     "output_type": "stream",
     "text": [
      "1\n",
      "2\n",
      "3\n",
      "4\n",
      "5\n",
      "6\n",
      "7\n",
      "8\n",
      "9\n",
      "10\n"
     ]
    }
   ],
   "source": [
    "# using while loop\n",
    "n=1\n",
    "while n<=10:\n",
    "    print(n)\n",
    "    n+=1\n",
    "    "
   ]
  },
  {
   "cell_type": "markdown",
   "id": "beddf5cf",
   "metadata": {},
   "source": [
    "# Q.13)If you had a function named bacon() inside a module named spam, how would you call it after importing spam?"
   ]
  },
  {
   "cell_type": "code",
   "execution_count": null,
   "id": "35cfe8b5",
   "metadata": {},
   "outputs": [],
   "source": [
    "The function named bacon() call with spam.bacon()"
   ]
  }
 ],
 "metadata": {
  "kernelspec": {
   "display_name": "Python 3 (ipykernel)",
   "language": "python",
   "name": "python3"
  },
  "language_info": {
   "codemirror_mode": {
    "name": "ipython",
    "version": 3
   },
   "file_extension": ".py",
   "mimetype": "text/x-python",
   "name": "python",
   "nbconvert_exporter": "python",
   "pygments_lexer": "ipython3",
   "version": "3.9.12"
  }
 },
 "nbformat": 4,
 "nbformat_minor": 5
}
